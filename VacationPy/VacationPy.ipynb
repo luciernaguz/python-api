{
 "cells": [
  {
   "cell_type": "markdown",
   "metadata": {},
   "source": [
    "# VacationPy\n",
    "----\n",
    "\n",
    "#### Note\n",
    "* Instructions have been included for each segment. You do not have to follow them exactly, but they are included to help you think through the steps."
   ]
  },
  {
   "cell_type": "code",
   "execution_count": 1,
   "metadata": {},
   "outputs": [],
   "source": [
    "# Dependencies and Setup\n",
    "import matplotlib.pyplot as plt\n",
    "import pandas as pd\n",
    "import numpy as np\n",
    "import requests\n",
    "import gmaps\n",
    "import os\n",
    "import json\n",
    "\n",
    "# Import API key\n",
    "from api_keys import g_key\n"
   ]
  },
  {
   "cell_type": "markdown",
   "metadata": {},
   "source": [
    "### Store Part I results into DataFrame\n",
    "* Load the csv exported in Part I to a DataFrame"
   ]
  },
  {
   "cell_type": "code",
   "execution_count": 2,
   "metadata": {},
   "outputs": [
    {
     "data": {
      "text/html": [
       "<div>\n",
       "<style scoped>\n",
       "    .dataframe tbody tr th:only-of-type {\n",
       "        vertical-align: middle;\n",
       "    }\n",
       "\n",
       "    .dataframe tbody tr th {\n",
       "        vertical-align: top;\n",
       "    }\n",
       "\n",
       "    .dataframe thead th {\n",
       "        text-align: right;\n",
       "    }\n",
       "</style>\n",
       "<table border=\"1\" class=\"dataframe\">\n",
       "  <thead>\n",
       "    <tr style=\"text-align: right;\">\n",
       "      <th></th>\n",
       "      <th>Unnamed: 0</th>\n",
       "      <th>City</th>\n",
       "      <th>Cloudiness</th>\n",
       "      <th>Country</th>\n",
       "      <th>Date</th>\n",
       "      <th>Humidity</th>\n",
       "      <th>Lat</th>\n",
       "      <th>Lng</th>\n",
       "      <th>Max Temp</th>\n",
       "      <th>Wind Speed</th>\n",
       "    </tr>\n",
       "  </thead>\n",
       "  <tbody>\n",
       "    <tr>\n",
       "      <th>0</th>\n",
       "      <td>0</td>\n",
       "      <td>george town</td>\n",
       "      <td>20.0</td>\n",
       "      <td>MY</td>\n",
       "      <td>1.603852e+09</td>\n",
       "      <td>83.0</td>\n",
       "      <td>5.41</td>\n",
       "      <td>100.34</td>\n",
       "      <td>302.15</td>\n",
       "      <td>2.60</td>\n",
       "    </tr>\n",
       "    <tr>\n",
       "      <th>1</th>\n",
       "      <td>1</td>\n",
       "      <td>ushuaia</td>\n",
       "      <td>40.0</td>\n",
       "      <td>AR</td>\n",
       "      <td>1.603852e+09</td>\n",
       "      <td>42.0</td>\n",
       "      <td>-54.80</td>\n",
       "      <td>-68.30</td>\n",
       "      <td>280.15</td>\n",
       "      <td>6.20</td>\n",
       "    </tr>\n",
       "    <tr>\n",
       "      <th>2</th>\n",
       "      <td>2</td>\n",
       "      <td>isiro</td>\n",
       "      <td>100.0</td>\n",
       "      <td>CD</td>\n",
       "      <td>1.603852e+09</td>\n",
       "      <td>98.0</td>\n",
       "      <td>2.77</td>\n",
       "      <td>27.62</td>\n",
       "      <td>292.37</td>\n",
       "      <td>0.57</td>\n",
       "    </tr>\n",
       "    <tr>\n",
       "      <th>3</th>\n",
       "      <td>3</td>\n",
       "      <td>hilo</td>\n",
       "      <td>75.0</td>\n",
       "      <td>US</td>\n",
       "      <td>1.603852e+09</td>\n",
       "      <td>74.0</td>\n",
       "      <td>19.73</td>\n",
       "      <td>-155.09</td>\n",
       "      <td>300.15</td>\n",
       "      <td>1.50</td>\n",
       "    </tr>\n",
       "    <tr>\n",
       "      <th>4</th>\n",
       "      <td>4</td>\n",
       "      <td>barrow</td>\n",
       "      <td>75.0</td>\n",
       "      <td>US</td>\n",
       "      <td>1.603852e+09</td>\n",
       "      <td>68.0</td>\n",
       "      <td>71.29</td>\n",
       "      <td>-156.79</td>\n",
       "      <td>272.15</td>\n",
       "      <td>10.30</td>\n",
       "    </tr>\n",
       "  </tbody>\n",
       "</table>\n",
       "</div>"
      ],
      "text/plain": [
       "   Unnamed: 0         City  Cloudiness Country          Date  Humidity    Lat  \\\n",
       "0           0  george town        20.0      MY  1.603852e+09      83.0   5.41   \n",
       "1           1      ushuaia        40.0      AR  1.603852e+09      42.0 -54.80   \n",
       "2           2        isiro       100.0      CD  1.603852e+09      98.0   2.77   \n",
       "3           3         hilo        75.0      US  1.603852e+09      74.0  19.73   \n",
       "4           4       barrow        75.0      US  1.603852e+09      68.0  71.29   \n",
       "\n",
       "      Lng  Max Temp  Wind Speed  \n",
       "0  100.34    302.15        2.60  \n",
       "1  -68.30    280.15        6.20  \n",
       "2   27.62    292.37        0.57  \n",
       "3 -155.09    300.15        1.50  \n",
       "4 -156.79    272.15       10.30  "
      ]
     },
     "execution_count": 2,
     "metadata": {},
     "output_type": "execute_result"
    }
   ],
   "source": [
    "# Import cities file into the cities_pd DataFrame\n",
    "cities_pd = pd.read_csv(\"./Resources/cities.csv\")\n",
    "cities_pd.head()"
   ]
  },
  {
   "cell_type": "code",
   "execution_count": 3,
   "metadata": {},
   "outputs": [
    {
     "data": {
      "text/plain": [
       "(598, 10)"
      ]
     },
     "execution_count": 3,
     "metadata": {},
     "output_type": "execute_result"
    }
   ],
   "source": [
    "#check the data \n",
    "cities_pd.shape"
   ]
  },
  {
   "cell_type": "markdown",
   "metadata": {},
   "source": [
    "### Humidity Heatmap\n",
    "* Configure gmaps.\n",
    "* Use the Lat and Lng as locations and Humidity as the weight.\n",
    "* Add Heatmap layer to map."
   ]
  },
  {
   "cell_type": "code",
   "execution_count": 4,
   "metadata": {},
   "outputs": [],
   "source": [
    "# Configure gmaps\n",
    "gmaps.configure(api_key=g_key)\n",
    "fig = gmaps.figure()"
   ]
  },
  {
   "cell_type": "code",
   "execution_count": 5,
   "metadata": {},
   "outputs": [],
   "source": [
    "#Drop na \n",
    "citiesna=cities_pd.dropna()"
   ]
  },
  {
   "cell_type": "code",
   "execution_count": 6,
   "metadata": {},
   "outputs": [],
   "source": [
    "# Store latitude and longitude in locations\n",
    "locations =citiesna[[\"Lat\", \"Lng\"]]\n",
    "#locations.shape"
   ]
  },
  {
   "cell_type": "code",
   "execution_count": 7,
   "metadata": {},
   "outputs": [],
   "source": [
    "# Assign Humidity as the weight.\n",
    "weight=citiesna[\"Humidity\"]\n",
    "#weight.shape"
   ]
  },
  {
   "cell_type": "code",
   "execution_count": 8,
   "metadata": {},
   "outputs": [
    {
     "data": {
      "application/vnd.jupyter.widget-view+json": {
       "model_id": "9d90a9a12ca84f67b08cceb5982c0494",
       "version_major": 2,
       "version_minor": 0
      },
      "text/plain": [
       "Figure(layout=FigureLayout(height='420px'))"
      ]
     },
     "metadata": {},
     "output_type": "display_data"
    }
   ],
   "source": [
    "# Plot Heatmap\n",
    "fig = gmaps.figure()\n",
    "# Create heat layer\n",
    "heat_layer = gmaps.heatmap_layer(locations,weights=weight,dissipating=False, max_intensity=100,point_radius=3)\n",
    "# Add layer\n",
    "fig.add_layer(heat_layer)\n",
    "# Display figure\n",
    "fig\n"
   ]
  },
  {
   "cell_type": "code",
   "execution_count": 9,
   "metadata": {},
   "outputs": [
    {
     "name": "stderr",
     "output_type": "stream",
     "text": [
      "Enabling notebook extension jupyter-gmaps/extension...\n",
      "      - Validating: ok\n"
     ]
    }
   ],
   "source": [
    "#!jupyter nbextension enable --py gmaps"
   ]
  },
  {
   "cell_type": "markdown",
   "metadata": {},
   "source": [
    "### Create new DataFrame fitting weather criteria\n",
    "* Narrow down the cities to fit weather conditions.\n",
    "* Drop any rows will null values."
   ]
  },
  {
   "cell_type": "markdown",
   "metadata": {},
   "source": [
    "* A max temperature lower than 80 degrees but higher than 70.\n",
    "* Wind speed less than 10 mph.\n",
    "* Zero cloudiness.\n",
    "* Drop any rows that don't contain all three conditions. You want to be sure the weather is ideal.\n",
    "* Note: Feel free to adjust to your specifications but be sure to limit the number of rows returned by your API requests to a * reasonable number."
   ]
  },
  {
   "cell_type": "code",
   "execution_count": 10,
   "metadata": {},
   "outputs": [],
   "source": [
    "#Some conditionsor a lot condition looks that my data is empty \n",
    "FittingWeather=cities_pd.loc[(cities_pd[\"Wind Speed\"]< 10) & (cities_pd[\"Cloudiness\"]==0)].dropna() \n",
    "#(cities_pd[\"Max Temp\"]> 70) & (cities_pd[\"Max Temp\"]< 80)].dropna()              "
   ]
  },
  {
   "cell_type": "code",
   "execution_count": 11,
   "metadata": {},
   "outputs": [
    {
     "data": {
      "text/plain": [
       "(101, 10)"
      ]
     },
     "execution_count": 11,
     "metadata": {},
     "output_type": "execute_result"
    }
   ],
   "source": [
    "#Checking the Fitting Data \n",
    "FittingWeather.shape"
   ]
  },
  {
   "cell_type": "markdown",
   "metadata": {},
   "source": [
    "### Hotel Map\n",
    "* Store into variable named `hotel_df`.\n",
    "* Add a \"Hotel Name\" column to the DataFrame.\n",
    "* Set parameters to search for hotels with 5000 meters.\n",
    "* Hit the Google Places API for each city's coordinates.\n",
    "* Store the first Hotel result into the DataFrame.\n",
    "* Plot markers on top of the heatmap."
   ]
  },
  {
   "cell_type": "code",
   "execution_count": 12,
   "metadata": {},
   "outputs": [],
   "source": [
    "#Store into variable named hotel_df\n",
    "hotel_df=FittingWeather"
   ]
  },
  {
   "cell_type": "code",
   "execution_count": 13,
   "metadata": {},
   "outputs": [],
   "source": [
    "#Add a \"Hotel Name\" column to the DataFrame\n",
    "hotel_df[\"Hotel Name\"] = \"\""
   ]
  },
  {
   "cell_type": "code",
   "execution_count": 14,
   "metadata": {},
   "outputs": [
    {
     "data": {
      "text/plain": [
       "(101, 11)"
      ]
     },
     "execution_count": 14,
     "metadata": {},
     "output_type": "execute_result"
    }
   ],
   "source": [
    "#Checking the final data with the conditions \n",
    "hotel_df.shape"
   ]
  },
  {
   "cell_type": "code",
   "execution_count": 15,
   "metadata": {},
   "outputs": [],
   "source": [
    "#Set parameters to search for hotels with 5000 meters.\n",
    "#Hit the Google Places API for each city's coordinates. #Store in data frame hote_info\n",
    "base_url = \"https://maps.googleapis.com/maps/api/place/nearbysearch/json\"\n",
    "params = {\"type\" : \"hotel\",\n",
    "          \"keyword\" : \"hotel\",\n",
    "          \"radius\" : 5000,\n",
    "          \"key\" : g_key}"
   ]
  },
  {
   "cell_type": "code",
   "execution_count": 16,
   "metadata": {},
   "outputs": [
    {
     "name": "stdout",
     "output_type": "stream",
     "text": [
      "Results for  8: punta arenas.\n",
      " The closest hotel in punta arenas is Hotel Cabo de Hornos.\n",
      "------------\n",
      "Results for  44: cabra.\n",
      " The closest hotel in cabra is MS Fuente Las Piedras.\n",
      "------------\n",
      "Results for  47: marzuq.\n",
      "Missing result ... skipping.\n",
      "------------\n",
      "Results for  54: saint-philippe.\n",
      " The closest hotel in saint-philippe is Les Embruns Du Baril.\n",
      "------------\n",
      "Results for  60: svetlogorsk.\n",
      " The closest hotel in svetlogorsk is Hotel Svetlogorsk JBIK.\n",
      "------------\n",
      "Results for  62: konyshevka.\n",
      "Missing result ... skipping.\n",
      "------------\n",
      "Results for  68: pisco.\n",
      " The closest hotel in pisco is Hotel Presidente.\n",
      "------------\n",
      "Results for  80: novouzensk.\n",
      "Missing result ... skipping.\n",
      "------------\n",
      "Results for  93: yulara.\n",
      " The closest hotel in yulara is The Lost Camel Hotel - Ayers Rock Resort.\n",
      "------------\n",
      "Results for  102: krasnaya gora.\n",
      " The closest hotel in krasnaya gora is Sberbank Rossii.\n",
      "------------\n",
      "Results for  110: vocklabruck.\n",
      " The closest hotel in vocklabruck is Hotel Auerhahn.\n",
      "------------\n",
      "Results for  111: upernavik.\n",
      " The closest hotel in upernavik is Café de Upernavik.\n",
      "------------\n",
      "Results for  116: wladyslawowo.\n",
      " The closest hotel in wladyslawowo is Gwiazda Morza Resort SPA&SPORT.\n",
      "------------\n",
      "Results for  122: anadyr.\n",
      " The closest hotel in anadyr is Chukotka hotel.\n",
      "------------\n",
      "Results for  129: marfino.\n",
      " The closest hotel in marfino is Pamir - Tyan-Shan Hotel.\n",
      "------------\n",
      "Results for  142: xining.\n",
      " The closest hotel in xining is Sofitel Xining.\n",
      "------------\n",
      "Results for  153: camalu.\n",
      " The closest hotel in camalu is La Cueva del Pirata.\n",
      "------------\n",
      "Results for  158: general roca.\n",
      " The closest hotel in general roca is Estepa Hotel.\n",
      "------------\n",
      "Results for  162: saint-pierre.\n",
      " The closest hotel in saint-pierre is Villa Delisle, Hotel & Spa.\n",
      "------------\n",
      "Results for  166: faya.\n",
      "Missing result ... skipping.\n",
      "------------\n",
      "Results for  183: chaman.\n",
      " The closest hotel in chaman is Sakhy Hotal Wah Mosafir Khana.\n",
      "------------\n",
      "Results for  184: castro.\n",
      " The closest hotel in castro is Hotel Buganville Express.\n",
      "------------\n",
      "Results for  185: mar del plata.\n",
      " The closest hotel in mar del plata is Hotel Sennac.\n",
      "------------\n",
      "Results for  194: charters towers.\n",
      " The closest hotel in charters towers is Commercial Hotel.\n",
      "------------\n",
      "Results for  204: zaraza.\n",
      " The closest hotel in zaraza is Hotel Central Suites.\n",
      "------------\n",
      "Results for  222: coquimbo.\n",
      " The closest hotel in coquimbo is Enjoy Coquimbo Hotel de la Bahía.\n",
      "------------\n",
      "Results for  231: hailar.\n",
      " The closest hotel in hailar is Kaijing Ka Wan Hotel.\n",
      "------------\n",
      "Results for  233: maine-soroa.\n",
      "Missing result ... skipping.\n",
      "------------\n",
      "Results for  238: taoudenni.\n",
      "Missing result ... skipping.\n",
      "------------\n",
      "Results for  240: toora-khem.\n",
      " The closest hotel in toora-khem is Sberbank Rossii.\n",
      "------------\n",
      "Results for  255: talnakh.\n",
      " The closest hotel in talnakh is Talnakh Hotel.\n",
      "------------\n",
      "Results for  259: korla.\n",
      " The closest hotel in korla is Kangcheng Jian Guo International Hotel.\n",
      "------------\n",
      "Results for  260: san vicente.\n",
      " The closest hotel in san vicente is Hotel Y Restaurante Los Lapachos.\n",
      "------------\n",
      "Results for  263: bolu.\n",
      " The closest hotel in bolu is Gazelle Resort&SPA.\n",
      "------------\n",
      "Results for  264: jiuquan.\n",
      " The closest hotel in jiuquan is Jiuquan Hotel.\n",
      "------------\n",
      "Results for  269: moctezuma.\n",
      " The closest hotel in moctezuma is Hotel San Antonio.\n",
      "------------\n",
      "Results for  270: santa maria.\n",
      " The closest hotel in santa maria is Hotel Ravas.\n",
      "------------\n",
      "Results for  292: gawler.\n",
      " The closest hotel in gawler is The Bushman Hotel.\n",
      "------------\n",
      "Results for  293: primorsk.\n",
      " The closest hotel in primorsk is База отдыха Дельфин.\n",
      "------------\n",
      "Results for  299: sabzevar.\n",
      " The closest hotel in sabzevar is Sabzevar Tourism hotel.\n",
      "------------\n",
      "Results for  301: dourbali.\n",
      "Missing result ... skipping.\n",
      "------------\n",
      "Results for  307: almeria.\n",
      "Missing result ... skipping.\n",
      "------------\n",
      "Results for  311: chivay.\n",
      " The closest hotel in chivay is Aranwa Pueblito Encantado del Colca.\n",
      "------------\n",
      "Results for  317: port elizabeth.\n",
      " The closest hotel in port elizabeth is Island Way Villa.\n",
      "------------\n",
      "Results for  320: suraabad.\n",
      "Missing result ... skipping.\n",
      "------------\n",
      "Results for  321: mirpur mathelo.\n",
      " The closest hotel in mirpur mathelo is Ali Hassan Mirani Hotel.\n",
      "------------\n",
      "Results for  327: alice springs.\n",
      " The closest hotel in alice springs is DoubleTree by Hilton Hotel Alice Springs.\n",
      "------------\n",
      "Results for  331: sakakah.\n",
      " The closest hotel in sakakah is Alnuzl Special Hotel.\n",
      "------------\n",
      "Results for  338: mandalgovi.\n",
      " The closest hotel in mandalgovi is Mandal Hotel.\n",
      "------------\n",
      "Results for  343: virginia beach.\n",
      " The closest hotel in virginia beach is Hilton Virginia Beach Oceanfront.\n",
      "------------\n",
      "Results for  347: cap malheureux.\n",
      " The closest hotel in cap malheureux is Paradise Cove Boutique Hotel.\n",
      "------------\n",
      "Results for  353: leningradskiy.\n",
      "Missing result ... skipping.\n",
      "------------\n",
      "Results for  360: shirhatti.\n",
      "Missing result ... skipping.\n",
      "------------\n",
      "Results for  363: yebaishou.\n",
      " The closest hotel in yebaishou is Jianping century wangfu hotel.\n",
      "------------\n",
      "Results for  364: sistranda.\n",
      " The closest hotel in sistranda is Hotell Frøya.\n",
      "------------\n",
      "Results for  371: cogoleto.\n",
      " The closest hotel in cogoleto is Grand Hotel Arenzano.\n",
      "------------\n",
      "Results for  379: marabba.\n",
      "Missing result ... skipping.\n",
      "------------\n",
      "Results for  381: qazvin.\n",
      " The closest hotel in qazvin is Behroozi Traditional House.\n",
      "------------\n",
      "Results for  387: shubarshi.\n",
      "Missing result ... skipping.\n",
      "------------\n",
      "Results for  389: ormara.\n",
      " The closest hotel in ormara is Alqadri hotel zero point ormara.\n",
      "------------\n",
      "Results for  392: marsa matruh.\n",
      " The closest hotel in marsa matruh is Jewel Matrouh Hotel.\n",
      "------------\n",
      "Results for  394: khairagarh.\n",
      "Missing result ... skipping.\n",
      "------------\n",
      "Results for  397: arman.\n",
      "Missing result ... skipping.\n",
      "------------\n",
      "Results for  401: melilla.\n",
      " The closest hotel in melilla is Parador de Melilla.\n",
      "------------\n",
      "Results for  406: chernitsyno.\n",
      "Missing result ... skipping.\n",
      "------------\n",
      "Results for  411: kedrovyy.\n",
      "Missing result ... skipping.\n",
      "------------\n",
      "Results for  420: abu kamal.\n",
      "Missing result ... skipping.\n",
      "------------\n",
      "Results for  422: keti bandar.\n",
      "Missing result ... skipping.\n",
      "------------\n",
      "Results for  427: puerto pailas.\n",
      " The closest hotel in puerto pailas is Quinta Angel.\n",
      "------------\n",
      "Results for  435: yar-sale.\n",
      " The closest hotel in yar-sale is Yalemd.\n",
      "------------\n",
      "Results for  437: batagay-alyta.\n",
      " The closest hotel in batagay-alyta is Sberbank Rossii.\n",
      "------------\n",
      "Results for  457: whyalla.\n",
      " The closest hotel in whyalla is Westland Hotel Motel.\n",
      "------------\n",
      "Results for  462: florencia.\n",
      " The closest hotel in florencia is Hotel Roma - Firenze.\n",
      "------------\n",
      "Results for  466: geraldton.\n",
      " The closest hotel in geraldton is Ocean Centre Hotel.\n",
      "------------\n",
      "Results for  470: exu.\n",
      " The closest hotel in exu is Pousada Lucena.\n",
      "------------\n",
      "Results for  483: lakhna.\n",
      "Missing result ... skipping.\n",
      "------------\n",
      "Results for  484: along.\n",
      " The closest hotel in along is OYO 66194 Hotel Veggie Aman.\n",
      "------------\n",
      "Results for  487: baglung.\n",
      " The closest hotel in baglung is Hotel Peace Palace, Baglung, Nepal.\n",
      "------------\n",
      "Results for  491: csabrendek.\n",
      " The closest hotel in csabrendek is Hotel Kapitány Wellness.\n",
      "------------\n",
      "Results for  492: tigre.\n",
      " The closest hotel in tigre is Villa San Gimignano.\n",
      "------------\n",
      "Results for  496: bilma.\n",
      "Missing result ... skipping.\n",
      "------------\n",
      "Results for  502: jalu.\n",
      " The closest hotel in jalu is Jalu Hotel.\n",
      "------------\n",
      "Results for  512: pozo colorado.\n",
      " The closest hotel in pozo colorado is Hotel Pozo Colorado.\n",
      "------------\n",
      "Results for  514: chekhov.\n",
      " The closest hotel in chekhov is Чехов #APi.\n",
      "------------\n",
      "Results for  518: tura.\n",
      " The closest hotel in tura is Hotel Polo Orchid.\n",
      "------------\n",
      "Results for  519: sur.\n",
      " The closest hotel in sur is Sur Plaza Hotel.\n",
      "------------\n",
      "Results for  523: chifeng.\n",
      " The closest hotel in chifeng is Wanda Realm Chifeng.\n",
      "------------\n",
      "Results for  529: rangpur.\n",
      " The closest hotel in rangpur is Grand Palace Rangpur.\n",
      "------------\n",
      "Results for  537: udaipura.\n",
      " The closest hotel in udaipura is Hotel Chandrakanta.\n",
      "------------\n",
      "Results for  551: guerrero negro.\n"
     ]
    },
    {
     "name": "stdout",
     "output_type": "stream",
     "text": [
      " The closest hotel in guerrero negro is The Halfway Inn.\n",
      "------------\n",
      "Results for  553: birjand.\n",
      " The closest hotel in birjand is هتل پرويز.\n",
      "------------\n",
      "Results for  557: port lincoln.\n",
      " The closest hotel in port lincoln is Port Lincoln Hotel.\n",
      "------------\n",
      "Results for  558: rio gallegos.\n",
      " The closest hotel in rio gallegos is Hotel Aire de Patagonia.\n",
      "------------\n",
      "Results for  559: khasan.\n",
      "Missing result ... skipping.\n",
      "------------\n",
      "Results for  561: vallenar.\n",
      " The closest hotel in vallenar is Hotel Esmeralda Limitada.\n",
      "------------\n",
      "Results for  570: chipinge.\n",
      " The closest hotel in chipinge is Chipinge Breeze Lodge.\n",
      "------------\n",
      "Results for  572: algeciras.\n",
      " The closest hotel in algeciras is H.PALMONES.\n",
      "------------\n",
      "Results for  579: tucson.\n",
      " The closest hotel in tucson is Lodge On The Desert.\n",
      "------------\n",
      "Results for  580: aden.\n",
      " The closest hotel in aden is Coral Hotel Aden.\n",
      "------------\n",
      "Results for  583: eregli.\n",
      " The closest hotel in eregli is CHERRY GARDEN CITY&SPA HOTEL.\n",
      "------------\n",
      "Results for  586: tete.\n",
      " The closest hotel in tete is Baobab Hotel Tete.\n",
      "------------\n",
      "-------End of Process-------\n"
     ]
    }
   ],
   "source": [
    "for index, row in hotel_df.iterrows():\n",
    "    # get city name, lat, lnt from df\n",
    "    lat = row[\"Lat\"]\n",
    "    lng = row[\"Lng\"]\n",
    "    city = row[\"City\"]\n",
    "    \n",
    "    # add keyword to params dict\n",
    "    params[\"location\"] = f\"{lat},{lng}\"\n",
    "\n",
    "    # assemble url and make API request\n",
    "    print(f\"Results for  {index}: {city}.\")\n",
    "    response = requests.get(base_url, params=params).json()\n",
    "    \n",
    "    # extract results\n",
    "    results = response['results']\n",
    "    \n",
    "    # save the hotel name to dataframe\n",
    "    try:\n",
    "        print(f\" The closest hotel in {city} is {results[0]['name']}.\")\n",
    "        hotel_df.loc[index, \"Hotel Name\"] = results[0]['name']\n",
    "\n",
    "    # if there is no hotel available, show missing field\n",
    "    except (KeyError, IndexError):\n",
    "        print(\"Missing result ... skipping.\")\n",
    "        \n",
    "    print(\"------------\")\n",
    "    \n",
    "    # Wait 1 sec to make another api request to avoid SSL Error\n",
    "    #time.sleep(1)\n",
    "\n",
    "# Print end of search once searching is completed\n",
    "print(\"-------End of Process-------\")"
   ]
  },
  {
   "cell_type": "code",
   "execution_count": 17,
   "metadata": {},
   "outputs": [],
   "source": [
    "# NOTE: Do not change any of the code in this cell\n",
    "# Using the template add the hotel marks to the heatmap\n",
    "info_box_template = \"\"\"\n",
    "<dl>\n",
    "<dt>Name</dt><dd>{Hotel Name}</dd>\n",
    "<dt>City</dt><dd>{City}</dd>\n",
    "<dt>Country</dt><dd>{Country}</dd>\n",
    "</dl>\n",
    "\"\"\"\n",
    "# Store the DataFrame Row\n",
    "# NOTE: be sure to update with your DataFrame name\n",
    "hotel_info = [info_box_template.format(**row) for index, row in hotel_df.iterrows()]\n",
    "locations = hotel_df[[\"Lat\", \"Lng\"]]"
   ]
  },
  {
   "cell_type": "code",
   "execution_count": 18,
   "metadata": {},
   "outputs": [
    {
     "data": {
      "application/vnd.jupyter.widget-view+json": {
       "model_id": "9d90a9a12ca84f67b08cceb5982c0494",
       "version_major": 2,
       "version_minor": 0
      },
      "text/plain": [
       "Figure(layout=FigureLayout(height='420px'))"
      ]
     },
     "metadata": {},
     "output_type": "display_data"
    }
   ],
   "source": [
    "# Add marker layer ontop of heat map\n",
    "# Add marker layer and info box content ontop of heat map\n",
    "markers = gmaps.marker_layer(locations, info_box_content = hotel_info)\n",
    "# Add the layer to the map\n",
    "fig.add_layer(markers)\n",
    "# Display Map\n",
    "fig"
   ]
  },
  {
   "cell_type": "code",
   "execution_count": null,
   "metadata": {},
   "outputs": [],
   "source": []
  }
 ],
 "metadata": {
  "kernelspec": {
   "display_name": "Python 3",
   "language": "python",
   "name": "python3"
  },
  "language_info": {
   "codemirror_mode": {
    "name": "ipython",
    "version": 3
   },
   "file_extension": ".py",
   "mimetype": "text/x-python",
   "name": "python",
   "nbconvert_exporter": "python",
   "pygments_lexer": "ipython3",
   "version": "3.8.3"
  },
  "latex_envs": {
   "LaTeX_envs_menu_present": true,
   "autoclose": false,
   "autocomplete": true,
   "bibliofile": "biblio.bib",
   "cite_by": "apalike",
   "current_citInitial": 1,
   "eqLabelWithNumbers": true,
   "eqNumInitial": 1,
   "hotkeys": {
    "equation": "Ctrl-E",
    "itemize": "Ctrl-I"
   },
   "labels_anchors": false,
   "latex_user_defs": false,
   "report_style_numbering": false,
   "user_envs_cfg": false
  }
 },
 "nbformat": 4,
 "nbformat_minor": 2
}
