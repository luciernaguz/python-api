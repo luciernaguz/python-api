{
 "cells": [
  {
   "cell_type": "markdown",
   "metadata": {},
   "source": [
    "# VacationPy\n",
    "----\n",
    "\n",
    "#### Note\n",
    "* Instructions have been included for each segment. You do not have to follow them exactly, but they are included to help you think through the steps."
   ]
  },
  {
   "cell_type": "code",
   "execution_count": 1,
   "metadata": {},
   "outputs": [],
   "source": [
    "# Dependencies and Setup\n",
    "import matplotlib.pyplot as plt\n",
    "import pandas as pd\n",
    "import numpy as np\n",
    "import requests\n",
    "import gmaps\n",
    "import os\n",
    "import json\n",
    "\n",
    "# Import API key\n",
    "from api_keys import g_key\n"
   ]
  },
  {
   "cell_type": "markdown",
   "metadata": {},
   "source": [
    "### Store Part I results into DataFrame\n",
    "* Load the csv exported in Part I to a DataFrame"
   ]
  },
  {
   "cell_type": "code",
   "execution_count": 2,
   "metadata": {},
   "outputs": [
    {
     "data": {
      "text/html": [
       "<div>\n",
       "<style scoped>\n",
       "    .dataframe tbody tr th:only-of-type {\n",
       "        vertical-align: middle;\n",
       "    }\n",
       "\n",
       "    .dataframe tbody tr th {\n",
       "        vertical-align: top;\n",
       "    }\n",
       "\n",
       "    .dataframe thead th {\n",
       "        text-align: right;\n",
       "    }\n",
       "</style>\n",
       "<table border=\"1\" class=\"dataframe\">\n",
       "  <thead>\n",
       "    <tr style=\"text-align: right;\">\n",
       "      <th></th>\n",
       "      <th>Unnamed: 0</th>\n",
       "      <th>City</th>\n",
       "      <th>Cloudiness</th>\n",
       "      <th>Country</th>\n",
       "      <th>Date</th>\n",
       "      <th>Humidity</th>\n",
       "      <th>Lat</th>\n",
       "      <th>Lng</th>\n",
       "      <th>Max Temp</th>\n",
       "      <th>Wind Speed</th>\n",
       "    </tr>\n",
       "  </thead>\n",
       "  <tbody>\n",
       "    <tr>\n",
       "      <th>0</th>\n",
       "      <td>0</td>\n",
       "      <td>klaksvik</td>\n",
       "      <td>91.0</td>\n",
       "      <td>FO</td>\n",
       "      <td>1.603841e+09</td>\n",
       "      <td>87.0</td>\n",
       "      <td>62.23</td>\n",
       "      <td>-6.59</td>\n",
       "      <td>279.15</td>\n",
       "      <td>4.60</td>\n",
       "    </tr>\n",
       "    <tr>\n",
       "      <th>1</th>\n",
       "      <td>1</td>\n",
       "      <td>hermanus</td>\n",
       "      <td>100.0</td>\n",
       "      <td>ZA</td>\n",
       "      <td>1.603841e+09</td>\n",
       "      <td>93.0</td>\n",
       "      <td>-34.42</td>\n",
       "      <td>19.23</td>\n",
       "      <td>289.26</td>\n",
       "      <td>1.85</td>\n",
       "    </tr>\n",
       "    <tr>\n",
       "      <th>2</th>\n",
       "      <td>2</td>\n",
       "      <td>vaitupu</td>\n",
       "      <td>NaN</td>\n",
       "      <td>NaN</td>\n",
       "      <td>NaN</td>\n",
       "      <td>NaN</td>\n",
       "      <td>NaN</td>\n",
       "      <td>NaN</td>\n",
       "      <td>NaN</td>\n",
       "      <td>NaN</td>\n",
       "    </tr>\n",
       "    <tr>\n",
       "      <th>3</th>\n",
       "      <td>3</td>\n",
       "      <td>belushya guba</td>\n",
       "      <td>NaN</td>\n",
       "      <td>NaN</td>\n",
       "      <td>NaN</td>\n",
       "      <td>NaN</td>\n",
       "      <td>NaN</td>\n",
       "      <td>NaN</td>\n",
       "      <td>NaN</td>\n",
       "      <td>NaN</td>\n",
       "    </tr>\n",
       "    <tr>\n",
       "      <th>4</th>\n",
       "      <td>4</td>\n",
       "      <td>attawapiskat</td>\n",
       "      <td>NaN</td>\n",
       "      <td>NaN</td>\n",
       "      <td>NaN</td>\n",
       "      <td>NaN</td>\n",
       "      <td>NaN</td>\n",
       "      <td>NaN</td>\n",
       "      <td>NaN</td>\n",
       "      <td>NaN</td>\n",
       "    </tr>\n",
       "  </tbody>\n",
       "</table>\n",
       "</div>"
      ],
      "text/plain": [
       "   Unnamed: 0           City  Cloudiness Country          Date  Humidity  \\\n",
       "0           0       klaksvik        91.0      FO  1.603841e+09      87.0   \n",
       "1           1       hermanus       100.0      ZA  1.603841e+09      93.0   \n",
       "2           2        vaitupu         NaN     NaN           NaN       NaN   \n",
       "3           3  belushya guba         NaN     NaN           NaN       NaN   \n",
       "4           4   attawapiskat         NaN     NaN           NaN       NaN   \n",
       "\n",
       "     Lat    Lng  Max Temp  Wind Speed  \n",
       "0  62.23  -6.59    279.15        4.60  \n",
       "1 -34.42  19.23    289.26        1.85  \n",
       "2    NaN    NaN       NaN         NaN  \n",
       "3    NaN    NaN       NaN         NaN  \n",
       "4    NaN    NaN       NaN         NaN  "
      ]
     },
     "execution_count": 2,
     "metadata": {},
     "output_type": "execute_result"
    }
   ],
   "source": [
    "# Import cities file into the cities_pd DataFrame\n",
    "cities_pd = pd.read_csv(\"./Resources/cities.csv\")\n",
    "cities_pd.head()"
   ]
  },
  {
   "cell_type": "code",
   "execution_count": 3,
   "metadata": {},
   "outputs": [
    {
     "data": {
      "text/plain": [
       "(584, 10)"
      ]
     },
     "execution_count": 3,
     "metadata": {},
     "output_type": "execute_result"
    }
   ],
   "source": [
    "#check the data \n",
    "cities_pd.shape"
   ]
  },
  {
   "cell_type": "markdown",
   "metadata": {},
   "source": [
    "### Humidity Heatmap\n",
    "* Configure gmaps.\n",
    "* Use the Lat and Lng as locations and Humidity as the weight.\n",
    "* Add Heatmap layer to map."
   ]
  },
  {
   "cell_type": "code",
   "execution_count": 4,
   "metadata": {},
   "outputs": [],
   "source": [
    "# Configure gmaps\n",
    "gmaps.configure(api_key=g_key)\n",
    "fig = gmaps.figure()"
   ]
  },
  {
   "cell_type": "code",
   "execution_count": 5,
   "metadata": {},
   "outputs": [],
   "source": [
    "#Drop na \n",
    "citiesna=cities_pd.dropna()"
   ]
  },
  {
   "cell_type": "code",
   "execution_count": 6,
   "metadata": {},
   "outputs": [],
   "source": [
    "# Store latitude and longitude in locations\n",
    "locations =citiesna[[\"Lat\", \"Lng\"]]\n",
    "#locations.shape"
   ]
  },
  {
   "cell_type": "code",
   "execution_count": 7,
   "metadata": {},
   "outputs": [],
   "source": [
    "# Assign Humidity as the weight.\n",
    "weight=citiesna[\"Humidity\"]\n",
    "#weight.shape"
   ]
  },
  {
   "cell_type": "code",
   "execution_count": 8,
   "metadata": {},
   "outputs": [
    {
     "data": {
      "application/vnd.jupyter.widget-view+json": {
       "model_id": "39b88d2621854bbeacd2c69fd4e42a00",
       "version_major": 2,
       "version_minor": 0
      },
      "text/plain": [
       "Figure(layout=FigureLayout(height='420px'))"
      ]
     },
     "metadata": {},
     "output_type": "display_data"
    }
   ],
   "source": [
    "# Plot Heatmap\n",
    "fig = gmaps.figure()\n",
    "# Create heat layer\n",
    "heat_layer = gmaps.heatmap_layer(locations,weights=weight,dissipating=False, max_intensity=100,point_radius=3)\n",
    "# Add layer\n",
    "fig.add_layer(heat_layer)\n",
    "# Display figure\n",
    "fig\n"
   ]
  },
  {
   "cell_type": "code",
   "execution_count": 9,
   "metadata": {},
   "outputs": [
    {
     "name": "stderr",
     "output_type": "stream",
     "text": [
      "Enabling notebook extension jupyter-gmaps/extension...\n",
      "      - Validating: ok\n"
     ]
    }
   ],
   "source": [
    "!jupyter nbextension enable --py gmaps"
   ]
  },
  {
   "cell_type": "markdown",
   "metadata": {},
   "source": [
    "### Create new DataFrame fitting weather criteria\n",
    "* Narrow down the cities to fit weather conditions.\n",
    "* Drop any rows will null values."
   ]
  },
  {
   "cell_type": "markdown",
   "metadata": {},
   "source": [
    "* A max temperature lower than 80 degrees but higher than 70.\n",
    "* Wind speed less than 10 mph.\n",
    "* Zero cloudiness.\n",
    "* Drop any rows that don't contain all three conditions. You want to be sure the weather is ideal.\n",
    "* Note: Feel free to adjust to your specifications but be sure to limit the number of rows returned by your API requests to a * reasonable number."
   ]
  },
  {
   "cell_type": "code",
   "execution_count": 10,
   "metadata": {},
   "outputs": [],
   "source": [
    "#Some conditionsor a lot condition looks that my data is empty \n",
    "FittingWeather=cities_pd.loc[(cities_pd[\"Wind Speed\"]< 10) & (cities_pd[\"Cloudiness\"]==0)].dropna() \n",
    "#(cities_pd[\"Max Temp\"]> 70) & (cities_pd[\"Max Temp\"]< 80)].dropna()              "
   ]
  },
  {
   "cell_type": "code",
   "execution_count": 11,
   "metadata": {},
   "outputs": [
    {
     "data": {
      "text/plain": [
       "(98, 10)"
      ]
     },
     "execution_count": 11,
     "metadata": {},
     "output_type": "execute_result"
    }
   ],
   "source": [
    "#Checking the Fitting Data \n",
    "FittingWeather.shape"
   ]
  },
  {
   "cell_type": "markdown",
   "metadata": {},
   "source": [
    "### Hotel Map\n",
    "* Store into variable named `hotel_df`.\n",
    "* Add a \"Hotel Name\" column to the DataFrame.\n",
    "* Set parameters to search for hotels with 5000 meters.\n",
    "* Hit the Google Places API for each city's coordinates.\n",
    "* Store the first Hotel result into the DataFrame.\n",
    "* Plot markers on top of the heatmap."
   ]
  },
  {
   "cell_type": "code",
   "execution_count": 12,
   "metadata": {},
   "outputs": [],
   "source": [
    "#Store into variable named hotel_df\n",
    "hotel_df=FittingWeather"
   ]
  },
  {
   "cell_type": "code",
   "execution_count": 13,
   "metadata": {},
   "outputs": [],
   "source": [
    "#Add a \"Hotel Name\" column to the DataFrame\n",
    "hotel_df[\"Hotel Name\"] = \"\""
   ]
  },
  {
   "cell_type": "code",
   "execution_count": 14,
   "metadata": {},
   "outputs": [
    {
     "data": {
      "text/plain": [
       "(98, 11)"
      ]
     },
     "execution_count": 14,
     "metadata": {},
     "output_type": "execute_result"
    }
   ],
   "source": [
    "#Checking the final data with the conditions \n",
    "hotel_df.shape"
   ]
  },
  {
   "cell_type": "code",
   "execution_count": 15,
   "metadata": {},
   "outputs": [],
   "source": [
    "#Set parameters to search for hotels with 5000 meters.\n",
    "#Hit the Google Places API for each city's coordinates. #Store in data frame hote_info\n",
    "base_url = \"https://maps.googleapis.com/maps/api/place/nearbysearch/json\"\n",
    "params = {\"type\" : \"hotel\",\n",
    "          \"keyword\" : \"hotel\",\n",
    "          \"radius\" : 5000,\n",
    "          \"key\" : g_key}"
   ]
  },
  {
   "cell_type": "code",
   "execution_count": 16,
   "metadata": {},
   "outputs": [
    {
     "name": "stdout",
     "output_type": "stream",
     "text": [
      "Results for  14: punta arenas.\n",
      " The closest hotel in punta arenas is Hotel Cabo de Hornos.\n",
      "------------\n",
      "Results for  27: serowe.\n",
      " The closest hotel in serowe is Serowe Hotel (P562.00).\n",
      "------------\n",
      "Results for  41: saint-philippe.\n",
      " The closest hotel in saint-philippe is Les Embruns Du Baril.\n",
      "------------\n",
      "Results for  48: dunmore town.\n",
      " The closest hotel in dunmore town is Pink Sands Resort.\n",
      "------------\n",
      "Results for  50: mocuba.\n",
      " The closest hotel in mocuba is Pensão Venus.\n",
      "------------\n",
      "Results for  63: atar.\n",
      " The closest hotel in atar is Odar kanawal.\n",
      "------------\n",
      "Results for  67: arraial do cabo.\n",
      " The closest hotel in arraial do cabo is Orlanova Boutique Hotel.\n",
      "------------\n",
      "Results for  72: urumqi.\n",
      " The closest hotel in urumqi is Urumqi Bintuan Grand Hotel.\n",
      "------------\n",
      "Results for  91: beberibe.\n",
      " The closest hotel in beberibe is Coliseum Beach Resort.\n",
      "------------\n",
      "Results for  92: castro.\n",
      " The closest hotel in castro is Hotel Buganville Express.\n",
      "------------\n",
      "Results for  99: asau.\n",
      " The closest hotel in asau is Pensiunea Sophia.\n",
      "------------\n",
      "Results for  114: saint-pierre.\n",
      " The closest hotel in saint-pierre is Villa Delisle, Hotel & Spa.\n",
      "------------\n",
      "Results for  120: upernavik.\n",
      " The closest hotel in upernavik is Café de Upernavik.\n",
      "------------\n",
      "Results for  124: comodoro rivadavia.\n",
      " The closest hotel in comodoro rivadavia is Austral Hotel.\n",
      "------------\n",
      "Results for  130: joshimath.\n",
      " The closest hotel in joshimath is The Tattva, A Boutique Resort.\n",
      "------------\n",
      "Results for  137: kamien pomorski.\n",
      " The closest hotel in kamien pomorski is Villa Kamila.\n",
      "------------\n",
      "Results for  143: antsohihy.\n",
      " The closest hotel in antsohihy is Hotel Tiako.\n",
      "------------\n",
      "Results for  146: aswan.\n",
      " The closest hotel in aswan is Sofitel Legend Old Cataract Aswan.\n",
      "------------\n",
      "Results for  155: caucaia.\n",
      " The closest hotel in caucaia is Stop Motel.\n",
      "------------\n",
      "Results for  158: marsh harbour.\n",
      " The closest hotel in marsh harbour is Abaco Beach Resort.\n",
      "------------\n",
      "Results for  171: eregli.\n",
      " The closest hotel in eregli is CHERRY GARDEN CITY&SPA HOTEL.\n",
      "------------\n",
      "Results for  179: konya.\n",
      "Missing result ... skipping.\n",
      "------------\n",
      "Results for  189: shahrud.\n",
      " The closest hotel in shahrud is dorehamy.\n",
      "------------\n",
      "Results for  196: mar del plata.\n",
      " The closest hotel in mar del plata is NH Gran Hotel Provincial.\n",
      "------------\n",
      "Results for  199: magadan.\n",
      " The closest hotel in magadan is Silver House Hotel.\n",
      "------------\n",
      "Results for  202: touros.\n",
      " The closest hotel in touros is Hotel Vila Gale Touros.\n",
      "------------\n",
      "Results for  203: gao.\n",
      "Missing result ... skipping.\n",
      "------------\n",
      "Results for  208: port elizabeth.\n",
      " The closest hotel in port elizabeth is Island Way Villa.\n",
      "------------\n",
      "Results for  211: adrar.\n",
      "Missing result ... skipping.\n",
      "------------\n",
      "Results for  222: carnarvon.\n",
      " The closest hotel in carnarvon is Carnarvon Sea Change Apartments.\n",
      "------------\n",
      "Results for  243: faya.\n",
      "Missing result ... skipping.\n",
      "------------\n",
      "Results for  249: tura.\n",
      " The closest hotel in tura is Hotel Polo Orchid.\n",
      "------------\n",
      "Results for  251: leningradskiy.\n",
      "Missing result ... skipping.\n",
      "------------\n",
      "Results for  255: port lincoln.\n",
      " The closest hotel in port lincoln is Port Lincoln Hotel.\n",
      "------------\n",
      "Results for  261: kariba.\n",
      " The closest hotel in kariba is Caribbea Bay Resort.\n",
      "------------\n",
      "Results for  262: huangnihe.\n",
      "Missing result ... skipping.\n",
      "------------\n",
      "Results for  264: ornes.\n",
      " The closest hotel in ornes is Ørnes Hotell AS.\n",
      "------------\n",
      "Results for  266: jizan.\n",
      "Missing result ... skipping.\n",
      "------------\n",
      "Results for  268: stokmarknes.\n",
      " The closest hotel in stokmarknes is Vesterålen Kysthotell.\n",
      "------------\n",
      "Results for  276: khash.\n",
      " The closest hotel in khash is بانک تجارت.\n",
      "------------\n",
      "Results for  283: cap malheureux.\n",
      " The closest hotel in cap malheureux is Lagoon Attitude Hotel.\n",
      "------------\n",
      "Results for  289: havoysund.\n",
      " The closest hotel in havoysund is Havøysund Hotel & Rorbuer.\n",
      "------------\n",
      "Results for  292: linxia.\n",
      " The closest hotel in linxia is Hezhou Hongrui International Hotel.\n",
      "------------\n",
      "Results for  297: villavieja.\n",
      " The closest hotel in villavieja is Susanna.\n",
      "------------\n",
      "Results for  301: wukari.\n",
      " The closest hotel in wukari is Rohi Grand Suites.\n",
      "------------\n",
      "Results for  306: abha.\n",
      " The closest hotel in abha is Abha Palace Hotel.\n",
      "------------\n",
      "Results for  307: cayenne.\n",
      " The closest hotel in cayenne is Royal Amazonia.\n",
      "------------\n",
      "Results for  314: mehamn.\n",
      " The closest hotel in mehamn is Mehamn Arctic Hotel AS.\n",
      "------------\n",
      "Results for  315: lasa.\n",
      " The closest hotel in lasa is Gasthof Hotel Sonne Silandro.\n",
      "------------\n",
      "Results for  323: jibuti.\n",
      "Missing result ... skipping.\n",
      "------------\n",
      "Results for  324: port said.\n",
      " The closest hotel in port said is فندق رستا بورسعيد Resta Port Said Hotel.\n",
      "------------\n",
      "Results for  327: fuerte olimpo.\n",
      " The closest hotel in fuerte olimpo is Hotel AA.\n",
      "------------\n",
      "Results for  334: paso de los toros.\n",
      " The closest hotel in paso de los toros is Hotel FK Paso de los Toros.\n",
      "------------\n",
      "Results for  339: gardez.\n",
      " The closest hotel in gardez is Dubai Hotel - دبی هوټل.\n",
      "------------\n",
      "Results for  345: newport.\n",
      " The closest hotel in newport is ibis budget Newport.\n",
      "------------\n",
      "Results for  347: shepsi.\n",
      " The closest hotel in shepsi is Premier Hotel.\n",
      "------------\n",
      "Results for  355: occhiobello.\n",
      " The closest hotel in occhiobello is Borgo La Colombara.\n",
      "------------\n",
      "Results for  356: tawang.\n",
      " The closest hotel in tawang is OYO 62337 Hotel Siddhartha.\n",
      "------------\n",
      "Results for  375: talaya.\n",
      "Missing result ... skipping.\n",
      "------------\n",
      "Results for  378: dobryanka.\n",
      " The closest hotel in dobryanka is Apartment on Zhukovskogo 19.\n",
      "------------\n",
      "Results for  392: pisco.\n",
      " The closest hotel in pisco is Hotel Presidente.\n",
      "------------\n",
      "Results for  399: talnakh.\n",
      " The closest hotel in talnakh is Talnakh Hotel.\n",
      "------------\n",
      "Results for  412: arlit.\n",
      " The closest hotel in arlit is Hôtel Telwa Bungalow.\n",
      "------------\n",
      "Results for  425: nsanje.\n",
      " The closest hotel in nsanje is Shumba Lodge.\n",
      "------------\n",
      "Results for  427: coquimbo.\n",
      " The closest hotel in coquimbo is Enjoy Coquimbo Hotel de la Bahía.\n",
      "------------\n",
      "Results for  431: jashpurnagar.\n",
      " The closest hotel in jashpurnagar is Hotel Nirvana, Jashpur.\n",
      "------------\n",
      "Results for  433: hasanpur.\n",
      "Missing result ... skipping.\n",
      "------------\n",
      "Results for  434: gazanjyk.\n",
      "Missing result ... skipping.\n",
      "------------\n",
      "Results for  436: saint-leu.\n",
      " The closest hotel in saint-leu is Iloha Seaview Hotel.\n",
      "------------\n",
      "Results for  441: tacuati.\n",
      "Missing result ... skipping.\n",
      "------------\n",
      "Results for  452: tirumullaivasal.\n",
      "Missing result ... skipping.\n",
      "------------\n",
      "Results for  471: nalhati.\n",
      " The closest hotel in nalhati is SPOT ON 44270 Astha Lodge.\n",
      "------------\n",
      "Results for  475: okhotsk.\n",
      " The closest hotel in okhotsk is Sberbank Rossii.\n",
      "------------\n",
      "Results for  478: asyut.\n",
      " The closest hotel in asyut is Florence Hotel Assiut.\n",
      "------------\n",
      "Results for  480: kifri.\n",
      "Missing result ... skipping.\n",
      "------------\n",
      "Results for  481: manzil salim.\n",
      "Missing result ... skipping.\n",
      "------------\n",
      "Results for  483: presidencia roque saenz pena.\n",
      " The closest hotel in presidencia roque saenz pena is Hotel Gualok.\n",
      "------------\n",
      "Results for  485: san quintin.\n",
      " The closest hotel in san quintin is Don Eddie's Landing.\n",
      "------------\n",
      "Results for  489: oussouye.\n",
      " The closest hotel in oussouye is Campement ALULUM.\n",
      "------------\n",
      "Results for  491: leh.\n",
      " The closest hotel in leh is Lotus Hotel.\n",
      "------------\n",
      "Results for  495: bulawayo.\n",
      " The closest hotel in bulawayo is Lawley house.\n",
      "------------\n",
      "Results for  496: guerrero negro.\n",
      " The closest hotel in guerrero negro is The Halfway Inn.\n",
      "------------\n",
      "Results for  501: alice springs.\n",
      " The closest hotel in alice springs is DoubleTree by Hilton Hotel Alice Springs.\n",
      "------------\n",
      "Results for  510: dunedin.\n",
      " The closest hotel in dunedin is Hotel Saint Clair.\n",
      "------------\n",
      "Results for  511: rudbar.\n",
      "Missing result ... skipping.\n",
      "------------\n",
      "Results for  514: grand gaube.\n",
      " The closest hotel in grand gaube is LUX Grand Gaube Resort & Villas.\n",
      "------------\n",
      "Results for  517: turayf.\n",
      " The closest hotel in turayf is Golden Dune Hotel.\n",
      "------------\n",
      "Results for  519: chiredzi.\n",
      " The closest hotel in chiredzi is The Nesbitt Arms.\n",
      "------------\n",
      "Results for  520: oyek.\n"
     ]
    },
    {
     "name": "stdout",
     "output_type": "stream",
     "text": [
      "Missing result ... skipping.\n",
      "------------\n",
      "Results for  521: brodokalmak.\n",
      "Missing result ... skipping.\n",
      "------------\n",
      "Results for  539: san vicente.\n",
      " The closest hotel in san vicente is Hotel Y Restaurante Los Lapachos.\n",
      "------------\n",
      "Results for  540: mvuma.\n",
      "Missing result ... skipping.\n",
      "------------\n",
      "Results for  542: nuuk.\n",
      " The closest hotel in nuuk is Hotel Hans Egede.\n",
      "------------\n",
      "Results for  545: adelaide.\n",
      " The closest hotel in adelaide is ibis Adelaide.\n",
      "------------\n",
      "Results for  550: concordia.\n",
      " The closest hotel in concordia is Hotel Florida.\n",
      "------------\n",
      "Results for  553: bhachau.\n",
      " The closest hotel in bhachau is Amrut Bagh Resort.\n",
      "------------\n",
      "Results for  556: tessalit.\n",
      "Missing result ... skipping.\n",
      "------------\n",
      "Results for  557: sistranda.\n",
      " The closest hotel in sistranda is Hotell Frøya.\n",
      "------------\n",
      "-------End of Process-------\n"
     ]
    }
   ],
   "source": [
    "for index, row in hotel_df.iterrows():\n",
    "    # get city name, lat, lnt from df\n",
    "    lat = row[\"Lat\"]\n",
    "    lng = row[\"Lng\"]\n",
    "    city = row[\"City\"]\n",
    "    \n",
    "    # add keyword to params dict\n",
    "    params[\"location\"] = f\"{lat},{lng}\"\n",
    "\n",
    "    # assemble url and make API request\n",
    "    print(f\"Results for  {index}: {city}.\")\n",
    "    response = requests.get(base_url, params=params).json()\n",
    "    \n",
    "    # extract results\n",
    "    results = response['results']\n",
    "    \n",
    "    # save the hotel name to dataframe\n",
    "    try:\n",
    "        print(f\" The closest hotel in {city} is {results[0]['name']}.\")\n",
    "        hotel_df.loc[index, \"Hotel Name\"] = results[0]['name']\n",
    "\n",
    "    # if there is no hotel available, show missing field\n",
    "    except (KeyError, IndexError):\n",
    "        print(\"Missing result ... skipping.\")\n",
    "        \n",
    "    print(\"------------\")\n",
    "    \n",
    "    # Wait 1 sec to make another api request to avoid SSL Error\n",
    "    #time.sleep(1)\n",
    "\n",
    "# Print end of search once searching is completed\n",
    "print(\"-------End of Process-------\")"
   ]
  },
  {
   "cell_type": "code",
   "execution_count": 17,
   "metadata": {},
   "outputs": [],
   "source": [
    "# NOTE: Do not change any of the code in this cell\n",
    "# Using the template add the hotel marks to the heatmap\n",
    "info_box_template = \"\"\"\n",
    "<dl>\n",
    "<dt>Name</dt><dd>{Hotel Name}</dd>\n",
    "<dt>City</dt><dd>{City}</dd>\n",
    "<dt>Country</dt><dd>{Country}</dd>\n",
    "</dl>\n",
    "\"\"\"\n",
    "# Store the DataFrame Row\n",
    "# NOTE: be sure to update with your DataFrame name\n",
    "hotel_info = [info_box_template.format(**row) for index, row in hotel_df.iterrows()]\n",
    "locations = hotel_df[[\"Lat\", \"Lng\"]]"
   ]
  },
  {
   "cell_type": "code",
   "execution_count": 18,
   "metadata": {},
   "outputs": [
    {
     "data": {
      "application/vnd.jupyter.widget-view+json": {
       "model_id": "39b88d2621854bbeacd2c69fd4e42a00",
       "version_major": 2,
       "version_minor": 0
      },
      "text/plain": [
       "Figure(layout=FigureLayout(height='420px'))"
      ]
     },
     "metadata": {},
     "output_type": "display_data"
    }
   ],
   "source": [
    "# Add marker layer ontop of heat map\n",
    "# Add marker layer and info box content ontop of heat map\n",
    "markers = gmaps.marker_layer(locations, info_box_content = hotel_info)\n",
    "# Add the layer to the map\n",
    "fig.add_layer(markers)\n",
    "# Display Map\n",
    "fig"
   ]
  },
  {
   "cell_type": "code",
   "execution_count": null,
   "metadata": {},
   "outputs": [],
   "source": []
  }
 ],
 "metadata": {
  "kernelspec": {
   "display_name": "Python 3",
   "language": "python",
   "name": "python3"
  },
  "language_info": {
   "codemirror_mode": {
    "name": "ipython",
    "version": 3
   },
   "file_extension": ".py",
   "mimetype": "text/x-python",
   "name": "python",
   "nbconvert_exporter": "python",
   "pygments_lexer": "ipython3",
   "version": "3.8.3"
  },
  "latex_envs": {
   "LaTeX_envs_menu_present": true,
   "autoclose": false,
   "autocomplete": true,
   "bibliofile": "biblio.bib",
   "cite_by": "apalike",
   "current_citInitial": 1,
   "eqLabelWithNumbers": true,
   "eqNumInitial": 1,
   "hotkeys": {
    "equation": "Ctrl-E",
    "itemize": "Ctrl-I"
   },
   "labels_anchors": false,
   "latex_user_defs": false,
   "report_style_numbering": false,
   "user_envs_cfg": false
  }
 },
 "nbformat": 4,
 "nbformat_minor": 2
}
